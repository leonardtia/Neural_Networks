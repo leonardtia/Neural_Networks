{
 "cells": [
  {
   "cell_type": "code",
   "execution_count": null,
   "metadata": {
    "collapsed": true
   },
   "outputs": [],
   "source": [
    "import zipfile\n",
    "def main():\n",
    "\tzipfilename = r'E:\\project\\venv\\project2：zip password crack\\Shadowsocks.zip'\n",
    "\tdictionary = r'C:\\Users\\Administrator\\PycharmProjects\\untitled\\venv\\新建文件夹\\pass.txt'\n",
    "\tzip_file = zipfile.ZipFile(zipfilename)\n",
    "\twith open(dictionary, 'r') as f:\n",
    "\t\tfor line in f.readlines():\n",
    "\t\t\tpassword = line.strip('\\n')\n",
    "\t\t\ttry:\n",
    "\t\t\t\tzip_file.extractall(pwd=password.encode())\n",
    "\t\t\t\tpassword = 'Password found: %s' % password\n",
    "\t\t\t\tprint(password)\n",
    "\t\t\t\tyield\n",
    "\t\t\texcept:\n",
    "\t\t\t\tpass\n",
    "\tprint(\"ok\")\n",
    "if __name__ == '__main__':\n",
    "\tmain()"
   ]
  },
  {
   "cell_type": "code",
   "execution_count": null,
   "metadata": {
    "collapsed": true
   },
   "outputs": [],
   "source": [
    "def read_file(fpath): \n",
    "   BLOCK_SIZE = 1024 \n",
    "   with open(dictionary, 'r') as f:\n",
    "        for line in f.readlines():\n",
    "            \n",
    "       while True: \n",
    "           block = f.read(BLOCK_SIZE) \n",
    "           if block: \n",
    "               yield block \n",
    "           else: \n",
    "               return"
   ]
  },
  {
   "cell_type": "code",
   "execution_count": null,
   "metadata": {
    "collapsed": true
   },
   "outputs": [],
   "source": [
    "def main():\n",
    "    with open(dictionary, 'r') as f:\n",
    "\t\tfor line in f.readlines():\n",
    "\t\t\tpassword = line.strip('\\n')\n",
    "\t\t\tyield getpwd(password)\n",
    "            \n",
    "def getpwd(pwd):\n",
    "    zip_file.extractall(pwd=password.encode())\n",
    "\tpassword = 'Password found: %s' % password\n",
    "\tprint(password)"
   ]
  }
 ],
 "metadata": {
  "kernelspec": {
   "display_name": "Python 3",
   "language": "python",
   "name": "python3"
  },
  "language_info": {
   "codemirror_mode": {
    "name": "ipython",
    "version": 3
   },
   "file_extension": ".py",
   "mimetype": "text/x-python",
   "name": "python",
   "nbconvert_exporter": "python",
   "pygments_lexer": "ipython3",
   "version": "3.6.1"
  }
 },
 "nbformat": 4,
 "nbformat_minor": 2
}
